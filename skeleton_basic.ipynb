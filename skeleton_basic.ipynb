{
 "cells": [
  {
   "cell_type": "code",
   "execution_count": 2,
   "id": "d7d76e67-ea83-4cf7-b6d2-7effeacf833b",
   "metadata": {},
   "outputs": [
    {
     "ename": "ModuleNotFoundError",
     "evalue": "No module named 'meshparty'",
     "output_type": "error",
     "traceback": [
      "\u001b[1;31m---------------------------------------------------------------------------\u001b[0m",
      "\u001b[1;31mModuleNotFoundError\u001b[0m                       Traceback (most recent call last)",
      "Input \u001b[1;32mIn [2]\u001b[0m, in \u001b[0;36m<cell line: 2>\u001b[1;34m()\u001b[0m\n\u001b[0;32m      1\u001b[0m \u001b[38;5;28;01mimport\u001b[39;00m \u001b[38;5;21;01mnumpy\u001b[39;00m \u001b[38;5;28;01mas\u001b[39;00m \u001b[38;5;21;01mnp\u001b[39;00m\n\u001b[1;32m----> 2\u001b[0m \u001b[38;5;28;01mfrom\u001b[39;00m \u001b[38;5;21;01mmeshparty\u001b[39;00m \u001b[38;5;28;01mimport\u001b[39;00m meshwork, trimesh_vtk\n\u001b[0;32m      4\u001b[0m skel_dir \u001b[38;5;241m=\u001b[39m \u001b[38;5;124m'\u001b[39m\u001b[38;5;124mdata\u001b[39m\u001b[38;5;124m'\u001b[39m\n",
      "\u001b[1;31mModuleNotFoundError\u001b[0m: No module named 'meshparty'"
     ]
    }
   ],
   "source": [
    "import numpy as np\n",
    "from meshparty import meshwork, trimesh_vtk\n",
    "\n",
    "skel_dir = 'data'"
   ]
  },
  {
   "cell_type": "markdown",
   "id": "f6a0c97a-5518-4006-8529-8d74ae3dce54",
   "metadata": {},
   "source": [
    "The files in the directory `data` contain skeletons of all of the basket cells in a central column of primary visual cortex.\n",
    "The number is the so-called `root id` of a given cell at a given state of proofreading, and the suffix `.h5` indicates that it's an \"hdf5\" file, which is a generic file format that can hold all sorts of data. In this case, these h5 files are formatted as a \"meshwork\" object, which holds information about the morphology and connectivity of neurons."
   ]
  },
  {
   "cell_type": "code",
   "execution_count": 2,
   "id": "7bacb9db-a006-4a60-b0b7-f37b9b671e97",
   "metadata": {},
   "outputs": [],
   "source": [
    "import glob\n",
    "\n",
    "# Glob lets you do shell-like file lists in python\n",
    "files = glob.glob(f\"{skel_dir}/*.h5\")"
   ]
  },
  {
   "cell_type": "markdown",
   "id": "d4cccacd-afc1-46d9-81ab-f8e70b017492",
   "metadata": {},
   "source": [
    "This command loads a neuron file into python"
   ]
  },
  {
   "cell_type": "code",
   "execution_count": 3,
   "id": "1d203a00-f3ad-42c2-92c7-9c4b0ef028a5",
   "metadata": {},
   "outputs": [],
   "source": [
    "nrn = meshwork.load_meshwork(files[0])"
   ]
  },
  {
   "cell_type": "markdown",
   "id": "32e58616-85ef-4678-bf65-f0c0c2e3ea35",
   "metadata": {},
   "source": [
    "Since we are interested in dendrite-dendrite interactions, the first thing we want to do is limit our analysis to dendrites.\n",
    "\n",
    "To show you how this goes, we're going to plot the cell along the way. We've been using vtk as a quick way to plot cells in 3d.\n",
    "\n",
    "The following two lines of code will bring up a 3d plot of the neuron, with the dendrite in red and the axon in blue.\n",
    "You'll have to close the window to continue."
   ]
  },
  {
   "cell_type": "code",
   "execution_count": 11,
   "id": "f77ddde3-3d7a-4465-a594-2bc7d8940e54",
   "metadata": {},
   "outputs": [
    {
     "name": "stdout",
     "output_type": "stream",
     "text": [
      "setting up renderer\n",
      "done setting up\n",
      "actors added\n",
      "camera set\n",
      "render done\n",
      "finalizing..\n"
     ]
    },
    {
     "data": {
      "text/plain": [
       "<vtkmodules.vtkRenderingOpenGL2.vtkOpenGLRenderer(0x7fd2d660bc00) at 0x7fd2d850ff40>"
      ]
     },
     "execution_count": 11,
     "metadata": {},
     "output_type": "execute_result"
    }
   ],
   "source": [
    "ska = trimesh_vtk.skeleton_actor(\n",
    "    nrn.skeleton, line_width=2, vertex_data=nrn.anno.is_axon.skel_mask\n",
    ")\n",
    "\n",
    "trimesh_vtk.render_actors([ska])"
   ]
  },
  {
   "cell_type": "markdown",
   "id": "566e443d-b59d-4414-971d-09e20362e79a",
   "metadata": {},
   "source": [
    "You can see all of the vertices of the object like so:"
   ]
  },
  {
   "cell_type": "code",
   "execution_count": 12,
   "id": "3cb50669-d221-4bf6-a526-5289c24d694b",
   "metadata": {},
   "outputs": [
    {
     "data": {
      "text/plain": [
       "array([[509720., 456576., 829640.],\n",
       "       [511968., 455232., 830640.],\n",
       "       [510680., 456320., 829920.],\n",
       "       ...,\n",
       "       [869496., 407336., 990160.],\n",
       "       [870608., 407680., 990440.],\n",
       "       [682944., 453376., 864040.]])"
      ]
     },
     "execution_count": 12,
     "metadata": {},
     "output_type": "execute_result"
    }
   ],
   "source": [
    "nrn.skeleton.vertices"
   ]
  },
  {
   "cell_type": "markdown",
   "id": "fd41f550-1a61-469e-afa3-96e55edd7b99",
   "metadata": {},
   "source": [
    "How many vertices are there?"
   ]
  },
  {
   "cell_type": "code",
   "execution_count": 13,
   "id": "e9e7da16-da7d-4be5-bc2f-7a4815d0440a",
   "metadata": {},
   "outputs": [
    {
     "data": {
      "text/plain": [
       "5607"
      ]
     },
     "execution_count": 13,
     "metadata": {},
     "output_type": "execute_result"
    }
   ],
   "source": [
    "len(nrn.skeleton.vertices)"
   ]
  },
  {
   "cell_type": "markdown",
   "id": "d111ff38-b2f0-4a1b-bb80-0b2b2efb686c",
   "metadata": {},
   "source": [
    "But now we want to mask out the axon and leave only the dendrite.\n",
    "When I made these skeletons to begin with, I already labeled the axon and dendrite (which is how we did the colors before), so we can just use that.\n",
    "However, these objects contain both skeletons (which are trees) and \"meshes\", which are somewhat more fleshed out.\n",
    "In this case, these aren't true meshes, but they still capture a bit more structure of the cells.\n",
    "\n",
    "Meshwork objects have meshes, skeletons, and annotations ( like axon/dendrite labels or like synapses) that are all linked together into a core object.\n",
    "One key operation is masking, which limits an object to a given subset.\n",
    "The function `apply_mask` takes a boolean array on the mesh, which we can get similar to the colors above.\n"
   ]
  },
  {
   "cell_type": "code",
   "execution_count": 19,
   "id": "edcc856e-2725-46f8-9e2c-49510826235c",
   "metadata": {},
   "outputs": [],
   "source": [
    "nrn.apply_mask(~nrn.anno.is_axon.mesh_mask)"
   ]
  },
  {
   "cell_type": "markdown",
   "id": "39a9fa66-1740-4657-88f7-1ebcdaf721db",
   "metadata": {},
   "source": [
    "After applying a mask, you can see the effect by plotting the object again."
   ]
  },
  {
   "cell_type": "code",
   "execution_count": 20,
   "id": "316177e4-f479-425e-ad5a-5d535da1dd02",
   "metadata": {},
   "outputs": [
    {
     "name": "stderr",
     "output_type": "stream",
     "text": [
      "/Users/caseys/Work/code/core_tools/MeshParty/meshparty/trimesh_vtk.py:613: RuntimeWarning: invalid value encountered in true_divide\n",
      "  data = data / np.nanmax(data)\n"
     ]
    },
    {
     "name": "stdout",
     "output_type": "stream",
     "text": [
      "setting up renderer\n",
      "done setting up\n",
      "actors added\n",
      "camera set\n",
      "render done\n",
      "finalizing..\n"
     ]
    },
    {
     "data": {
      "text/plain": [
       "<vtkmodules.vtkRenderingOpenGL2.vtkOpenGLRenderer(0x7fd2d4963000) at 0x7fd2b9bd72e0>"
      ]
     },
     "execution_count": 20,
     "metadata": {},
     "output_type": "execute_result"
    }
   ],
   "source": [
    "ska = trimesh_vtk.skeleton_actor(\n",
    "    nrn.skeleton, line_width=2, vertex_data=nrn.anno.is_axon.skel_mask.astype(int)\n",
    ")\n",
    "\n",
    "trimesh_vtk.render_actors([ska])"
   ]
  },
  {
   "cell_type": "markdown",
   "id": "ce699ff2-1d1c-4dfb-bf2d-3cd00ec87d2e",
   "metadata": {},
   "source": [
    "This time, you should see just a red part, and the skeleton will be much smaller.\n",
    "\n",
    "You can reset the mask to the original state with `nrn.reset_mask()`\n",
    "\n",
    "Now how many vertices are there?"
   ]
  },
  {
   "cell_type": "code",
   "execution_count": 21,
   "id": "80e550dc-6978-4db4-872d-2fa042e5ec15",
   "metadata": {},
   "outputs": [
    {
     "data": {
      "text/plain": [
       "1266"
      ]
     },
     "execution_count": 21,
     "metadata": {},
     "output_type": "execute_result"
    }
   ],
   "source": [
    "len(nrn.skeleton.vertices)"
   ]
  },
  {
   "cell_type": "markdown",
   "id": "d4722b49-bf8a-40ea-8915-08ae839c005a",
   "metadata": {},
   "source": [
    "How do we measure the distance between dendrites?\n",
    "\n",
    "As a first approximation, we can measure the closest distances between the dendrite vertices.\n",
    "\n",
    "Scipy has an object called a K-d tree that does this very efficiently.\n",
    "Let's use it here.\n",
    "\n",
    "We're going to use the mesh vertices instead of the skeleton vertices to get a slightly richer representation."
   ]
  },
  {
   "cell_type": "code",
   "execution_count": 22,
   "id": "88490264-a68e-44fa-a277-b8c8ca1ace7b",
   "metadata": {},
   "outputs": [],
   "source": [
    "nrn_other = meshwork.load_meshwork(files[1])\n",
    "nrn_other.apply_mask(~nrn_other.anno.is_axon.mesh_mask)"
   ]
  },
  {
   "cell_type": "code",
   "execution_count": 23,
   "id": "ca5ca37e-c887-48d9-958d-f32ed5ca3c19",
   "metadata": {},
   "outputs": [],
   "source": [
    "from scipy import spatial"
   ]
  },
  {
   "cell_type": "code",
   "execution_count": 24,
   "id": "c0f1911e-870a-470c-a2d5-b7e5ce71c42e",
   "metadata": {},
   "outputs": [],
   "source": [
    "kdt = spatial.KDTree(nrn_other.mesh.vertices)\n",
    "ds, inds = kdt.query(nrn.mesh.vertices) # This returns the distance and closest index in the tree object for each of the vertices queried."
   ]
  },
  {
   "cell_type": "markdown",
   "id": "84021209-6d86-45da-9d71-b25456428799",
   "metadata": {},
   "source": [
    "What is the closest distance between the two dendrites?"
   ]
  },
  {
   "cell_type": "code",
   "execution_count": 27,
   "id": "e3f462e1-a0c9-40a5-9dd9-80111d62074f",
   "metadata": {},
   "outputs": [
    {
     "data": {
      "text/plain": [
       "8.914678233116438"
      ]
     },
     "execution_count": 27,
     "metadata": {},
     "output_type": "execute_result"
    }
   ],
   "source": [
    "np.min(ds)/1000   # The vertex units are in nanometers, so let's divide by 1000 to bring into microns"
   ]
  },
  {
   "cell_type": "code",
   "execution_count": 28,
   "id": "92fd03b0-60cc-4ee9-a006-9d384ae117f8",
   "metadata": {},
   "outputs": [
    {
     "data": {
      "text/plain": [
       "1517"
      ]
     },
     "execution_count": 28,
     "metadata": {},
     "output_type": "execute_result"
    }
   ],
   "source": [
    "np.argmin(ds)"
   ]
  },
  {
   "cell_type": "code",
   "execution_count": 32,
   "id": "941a99c0-acb3-40d0-b452-eb80fff3a7a2",
   "metadata": {},
   "outputs": [
    {
     "data": {
      "text/plain": [
       "864691135988773120"
      ]
     },
     "execution_count": 32,
     "metadata": {},
     "output_type": "execute_result"
    }
   ],
   "source": [
    "nrn.seg_id"
   ]
  },
  {
   "cell_type": "code",
   "execution_count": 31,
   "id": "78cb7025-723b-4139-95cb-282197094e4c",
   "metadata": {},
   "outputs": [
    {
     "data": {
      "text/plain": [
       "864691135946995809"
      ]
     },
     "execution_count": 31,
     "metadata": {},
     "output_type": "execute_result"
    }
   ],
   "source": [
    "nrn_other.seg_id"
   ]
  },
  {
   "cell_type": "code",
   "execution_count": 30,
   "id": "96403303-8598-4a61-9102-a54bb67e601f",
   "metadata": {},
   "outputs": [
    {
     "data": {
      "text/plain": [
       "TrackedArray([170972., 115400.,  19954.])"
      ]
     },
     "execution_count": 30,
     "metadata": {},
     "output_type": "execute_result"
    }
   ],
   "source": [
    "nrn.mesh.vertices[np.argmin(ds)] / [4,4,40]"
   ]
  },
  {
   "cell_type": "markdown",
   "id": "7a0a2fdd-3731-4568-a942-b8a81c288d58",
   "metadata": {},
   "source": [
    "Now, how would you go about getting this minimum distance for all pairs of cells?"
   ]
  },
  {
   "cell_type": "code",
   "execution_count": null,
   "id": "69f5998c-ba44-49ea-88bd-de742b0fe762",
   "metadata": {},
   "outputs": [],
   "source": []
  }
 ],
 "metadata": {
  "kernelspec": {
   "display_name": "Python 3 (ipykernel)",
   "language": "python",
   "name": "python3"
  },
  "language_info": {
   "codemirror_mode": {
    "name": "ipython",
    "version": 3
   },
   "file_extension": ".py",
   "mimetype": "text/x-python",
   "name": "python",
   "nbconvert_exporter": "python",
   "pygments_lexer": "ipython3",
   "version": "3.9.12"
  }
 },
 "nbformat": 4,
 "nbformat_minor": 5
}
